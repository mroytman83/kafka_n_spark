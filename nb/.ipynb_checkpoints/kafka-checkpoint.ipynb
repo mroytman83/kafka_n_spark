{
 "cells": [
  {
   "cell_type": "code",
   "execution_count": 49,
   "id": "48a6cf9a-151f-4400-8d7e-3a7c71e68460",
   "metadata": {},
   "outputs": [],
   "source": [
    "import datetime, time, random, string\n",
    "\n",
    "def one_station(name):\n",
    "    # temp pattern\n",
    "    month_avg = [27,31,44,58,70,79,83,81,74,61,46,32]\n",
    "    shift = (random.random()-0.5) * 30\n",
    "    month_avg = [m + shift + (random.random()-0.5) * 5 for m in month_avg]\n",
    "    \n",
    "    # rain pattern\n",
    "    start_rain = [0.1,0.1,0.3,0.5,0.4,0.2,0.2,0.1,0.2,0.2,0.2,0.1]\n",
    "    shift = (random.random()-0.5) * 0.1\n",
    "    start_rain = [r + shift + (random.random() - 0.5) * 0.2 for r in start_rain]\n",
    "    stop_rain = 0.2 + random.random() * 0.2\n",
    "\n",
    "    # day's state\n",
    "    today = datetime.date(2000, 1, 1)\n",
    "    temp = month_avg[0]\n",
    "    raining = False\n",
    "    \n",
    "    # gen weather\n",
    "    while True:\n",
    "        # choose temp+rain\n",
    "        month = today.month - 1\n",
    "        temp = temp * 0.8 + month_avg[month] * 0.2 + (random.random()-0.5) * 20\n",
    "        if temp < 32:\n",
    "            raining=False\n",
    "        elif raining and random.random() < stop_rain:\n",
    "            raining = False\n",
    "        elif not raining and random.random() < start_rain[month]:\n",
    "            raining = True\n",
    "\n",
    "        yield (today.strftime(\"%Y-%m-%d\"), name, temp, raining)\n",
    "\n",
    "        # next day\n",
    "        today += datetime.timedelta(days=1)\n",
    "        \n",
    "def all_stations(count=10, sleep_sec=1):\n",
    "    assert count <= 26\n",
    "    stations = []\n",
    "    for name in string.ascii_uppercase[:count]:\n",
    "        stations.append(one_station(name))\n",
    "    while True:\n",
    "        for station in stations:\n",
    "            yield next(station)\n",
    "        time.sleep(sleep_sec)"
   ]
  },
  {
   "cell_type": "code",
   "execution_count": 57,
   "id": "79830a57-4b12-40f4-904e-06dc2eef42dc",
   "metadata": {},
   "outputs": [
    {
     "name": "stdout",
     "output_type": "stream",
     "text": [
      "('2000-01-01', 'A', 27.828682305481333, False)\n"
     ]
    }
   ],
   "source": [
    "# loops forever because the weather never ends...\n",
    "for row in all_stations(3):\n",
    "    print(row)\n",
    "    break# date, station, temp, raining"
   ]
  },
  {
   "cell_type": "code",
   "execution_count": 2,
   "id": "cc41db6f-ab9d-4973-93ae-5295c23dc5a7",
   "metadata": {
    "tags": []
   },
   "outputs": [
    {
     "name": "stdout",
     "output_type": "stream",
     "text": [
      "cannot delete (may not exist yet)\n"
     ]
    },
    {
     "data": {
      "text/plain": [
       "['stations-json', 'stations']"
      ]
     },
     "execution_count": 2,
     "metadata": {},
     "output_type": "execute_result"
    }
   ],
   "source": [
    "from kafka import KafkaAdminClient, KafkaProducer, KafkaConsumer, TopicPartition\n",
    "from kafka.admin import NewTopic\n",
    "from kafka.errors import TopicAlreadyExistsError, UnknownTopicOrPartitionError\n",
    "\n",
    "admin = KafkaAdminClient(bootstrap_servers=[\"kafka:9092\"])\n",
    "try:\n",
    "    admin.delete_topics([\"stations\", \"stations-json\"])\n",
    "    print(\"deleted\")\n",
    "except UnknownTopicOrPartitionError:\n",
    "    print(\"cannot delete (may not exist yet)\")\n",
    "\n",
    "time.sleep(1)\n",
    "\n",
    "admin.create_topics([NewTopic(\"stations\", 6, 1)])\n",
    "admin.create_topics([NewTopic(\"stations-json\", 6, 1)])\n",
    "admin.list_topics()\n",
    "\n",
    "admin.list_topics()"
   ]
  },
  {
   "cell_type": "markdown",
   "id": "917a066b-7fbb-4b5f-ac73-7c4a4c3e68ac",
   "metadata": {},
   "source": [
    "Part 1:"
   ]
  },
  {
   "cell_type": "code",
   "execution_count": 10,
   "id": "8c62b231-427b-4c02-8aa3-27364306d61b",
   "metadata": {},
   "outputs": [
    {
     "data": {
      "text/plain": [
       "<kafka.producer.kafka.KafkaProducer at 0x7f06301b66b0>"
      ]
     },
     "execution_count": 10,
     "metadata": {},
     "output_type": "execute_result"
    }
   ],
   "source": [
    "producer=KafkaProducer(bootstrap_servers=[\"kafka:9092\"])\n",
    "producer"
   ]
  },
  {
   "cell_type": "code",
   "execution_count": 50,
   "id": "5ba1aafb-f5ff-4ea9-a99c-62cb034d4671",
   "metadata": {},
   "outputs": [],
   "source": [
    "import time, threading\n",
    "import report_pb2\n",
    "import json"
   ]
  },
  {
   "cell_type": "code",
   "execution_count": 96,
   "id": "0ef4473e-70bc-4029-9a1b-a7498dad897a",
   "metadata": {},
   "outputs": [],
   "source": [
    "def produce():\n",
    "    producer = KafkaProducer(\n",
    "        bootstrap_servers=[\"kafka:9092\"],\n",
    "        retries=10,\n",
    "        acks=\"all\"\n",
    "    )\n",
    "\n",
    "    for date, station, degrees, raining in all_stations(15):\n",
    "        # send to \"stations\" stream using protobuf\n",
    "        report = report_pb2.Report(date = date, station = station, degrees = degrees, raining = raining)\n",
    "        key = bytes(station, \"utf-8\")\n",
    "        value = report.SerializeToString()\n",
    "        producer.send(\"stations\", key=key, value=value)\n",
    "\n",
    "        # send to \"stations-json\" using JSON\n",
    "        data = {\n",
    "            \"date\": date,\n",
    "            \"station\": station,\n",
    "            \"degrees\": degrees,\n",
    "            \"raining\": int(raining)\n",
    "        }\n",
    "        key = bytes(station, \"utf-8\")\n",
    "        value = bytes(json.dumps(data), \"utf-8\")\n",
    "        producer.send(\"stations-json\", key=key, value=value)"
   ]
  },
  {
   "cell_type": "code",
   "execution_count": 97,
   "id": "0e738a7b-bf40-428e-805b-a9c365adf590",
   "metadata": {},
   "outputs": [],
   "source": [
    "# Start thread to run produce\n",
    "producer_thread = threading.Thread(target=produce)\n",
    "producer_thread.start()"
   ]
  },
  {
   "cell_type": "markdown",
   "id": "8d228cb8-2f10-428c-90d9-7686ee39e58d",
   "metadata": {},
   "source": [
    "Part 2:"
   ]
  },
  {
   "cell_type": "code",
   "execution_count": 98,
   "id": "0a1d12af-7d70-43f6-90cd-912bcc726495",
   "metadata": {},
   "outputs": [],
   "source": [
    "consumer = KafkaConsumer(bootstrap_servers=[\"kafka:9092\"])"
   ]
  },
  {
   "cell_type": "code",
   "execution_count": 99,
   "id": "7bc1a5bc-7ce2-4d1c-89e5-cffe19838dda",
   "metadata": {},
   "outputs": [],
   "source": [
    "consumer.assign([TopicPartition(\"stations\", 0)])"
   ]
  },
  {
   "cell_type": "code",
   "execution_count": 108,
   "id": "444b4ef3-e970-4802-b446-d43c905a5d25",
   "metadata": {},
   "outputs": [
    {
     "ename": "UnicodeDecodeError",
     "evalue": "'utf-8' codec can't decode byte 0xab in position 17: invalid start byte",
     "output_type": "error",
     "traceback": [
      "\u001b[0;31m---------------------------------------------------------------------------\u001b[0m",
      "\u001b[0;31mUnicodeDecodeError\u001b[0m                        Traceback (most recent call last)",
      "Cell \u001b[0;32mIn[108], line 4\u001b[0m\n\u001b[1;32m      2\u001b[0m \u001b[38;5;28;01mfor\u001b[39;00m topicpartition, messages \u001b[38;5;129;01min\u001b[39;00m batch\u001b[38;5;241m.\u001b[39mitems():\n\u001b[1;32m      3\u001b[0m     \u001b[38;5;28;01mfor\u001b[39;00m msg \u001b[38;5;129;01min\u001b[39;00m messages:\n\u001b[0;32m----> 4\u001b[0m         \u001b[38;5;28mprint\u001b[39m(\u001b[43mmsg\u001b[49m\u001b[38;5;241;43m.\u001b[39;49m\u001b[43mvalue\u001b[49m\u001b[38;5;241;43m.\u001b[39;49m\u001b[43mdecode\u001b[49m\u001b[43m(\u001b[49m\u001b[43m)\u001b[49m)\n\u001b[1;32m      5\u001b[0m         \u001b[38;5;28;01mbreak\u001b[39;00m\n",
      "\u001b[0;31mUnicodeDecodeError\u001b[0m: 'utf-8' codec can't decode byte 0xab in position 17: invalid start byte"
     ]
    }
   ],
   "source": [
    "batch = consumer.poll(1000)\n",
    "for topicpartition, messages in batch.items():\n",
    "    for msg in messages:\n",
    "        print(msg.value.decode())\n",
    "        break"
   ]
  },
  {
   "cell_type": "code",
   "execution_count": 32,
   "id": "85e0aeeb-7a28-4d03-9ae5-be1176b04981",
   "metadata": {},
   "outputs": [],
   "source": [
    "import os, json\n",
    "\n",
    "for partition in range(6):\n",
    "    path = f\"partition-{partition}.json\"\n",
    "    if os.path.exists(path):\n",
    "        os.remove(path)"
   ]
  },
  {
   "cell_type": "code",
   "execution_count": 7,
   "id": "df412bc3-9f0b-4281-8c0e-d4a3e90db22c",
   "metadata": {},
   "outputs": [],
   "source": [
    "def load_partition(partition_num):\n",
    "    path = f\"partition-{partition_num}.json\"\n",
    "    if os.path.exists(path):\n",
    "        with open(path, \"r\") as file:\n",
    "            return json.load(file)\n",
    "    else:\n",
    "        return {\"partition\": partition_num, \"offset\": 0}\n",
    "\n",
    "def save_partition(partition):\n",
    "    path = f\"partition-{partition['partition']}.json\"\n",
    "    with open(path, \"w\") as file:\n",
    "        json.dump(partition, file)"
   ]
  },
  {
   "cell_type": "code",
   "execution_count": 85,
   "id": "2a3c13a1-8ad4-4e93-a874-a13f9647b3aa",
   "metadata": {},
   "outputs": [],
   "source": [
    "def process_messages(messages, partition):\n",
    "    for msg in messages:\n",
    "        station = msg.key.decode(\"utf-8\")\n",
    "        #THE ISSUE IS WHEN WE TRY DECODE THE LINE BELOW\n",
    "        date, temperature = msg.value.decode(\"utf-8\").split(\",\")\n",
    "        \n",
    "        temperature = float(temperature)\n",
    "\n",
    "        if station not in partition:\n",
    "            partition[station] = {\n",
    "                \"sum\": temperature,\n",
    "                \"count\": 1,\n",
    "                \"avg\": temperature,\n",
    "                \"start\": date,\n",
    "                \"end\": date,\n",
    "            }\n",
    "        else:\n",
    "            if date > partition[station][\"end\"]:\n",
    "                partition[station][\"sum\"] += temperature\n",
    "                partition[station][\"count\"] += 1\n",
    "                partition[station][\"avg\"] = partition[station][\"sum\"] / partition[station][\"count\"]\n",
    "                partition[station][\"end\"] = date\n",
    "\n",
    "    return partition"
   ]
  },
  {
   "cell_type": "code",
   "execution_count": 86,
   "id": "c5e8063e-f44d-4e70-b13f-246e717e90e7",
   "metadata": {},
   "outputs": [
    {
     "name": "stdout",
     "output_type": "stream",
     "text": [
      "ROUND 0\n",
      "<class 'kafka.consumer.group.KafkaConsumer'>\n",
      "<class 'kafka.consumer.group.KafkaConsumer'>\n",
      "<class 'kafka.consumer.group.KafkaConsumer'>\n"
     ]
    },
    {
     "name": "stderr",
     "output_type": "stream",
     "text": [
      "Exception in thread Thread-121 (consume):\n",
      "Traceback (most recent call last):\n",
      "  File \"/usr/lib/python3.10/threading.py\", line 1016, in _bootstrap_inner\n",
      "    self.run()\n",
      "  File \"/usr/lib/python3.10/threading.py\", line 953, in run\n",
      "    self._target(*self._args, **self._kwargs)\n",
      "  File \"/tmp/ipykernel_14/1295344906.py\", line 18, in consume\n",
      "  File \"/tmp/ipykernel_14/1187766284.py\", line 5, in process_messages\n",
      "UnicodeDecodeError: 'utf-8' codec can't decode byte 0xb3 in position 17: invalid start byte\n",
      "Exception in thread Thread-122 (consume):\n",
      "Traceback (most recent call last):\n",
      "  File \"/usr/lib/python3.10/threading.py\", line 1016, in _bootstrap_inner\n",
      "    self.run()\n",
      "  File \"/usr/lib/python3.10/threading.py\", line 953, in run\n",
      "    self._target(*self._args, **self._kwargs)\n",
      "  File \"/tmp/ipykernel_14/1295344906.py\", line 18, in consume\n",
      "  File \"/tmp/ipykernel_14/1187766284.py\", line 5, in process_messages\n",
      "UnicodeDecodeError: 'utf-8' codec can't decode byte 0x9c in position 17: invalid start byte\n"
     ]
    },
    {
     "name": "stdout",
     "output_type": "stream",
     "text": [
      "N\n",
      "D\n"
     ]
    },
    {
     "name": "stderr",
     "output_type": "stream",
     "text": [
      "Exception in thread Thread-123 (consume):\n",
      "Traceback (most recent call last):\n",
      "  File \"/usr/lib/python3.10/threading.py\", line 1016, in _bootstrap_inner\n",
      "    self.run()\n",
      "  File \"/usr/lib/python3.10/threading.py\", line 953, in run\n",
      "    self._target(*self._args, **self._kwargs)\n",
      "  File \"/tmp/ipykernel_14/1295344906.py\", line 18, in consume\n",
      "  File \"/tmp/ipykernel_14/1187766284.py\", line 5, in process_messages\n",
      "UnicodeDecodeError: 'utf-8' codec can't decode byte 0xbc in position 17: invalid start byte\n"
     ]
    },
    {
     "name": "stdout",
     "output_type": "stream",
     "text": [
      "A\n",
      "ROUND 1\n",
      "<class 'kafka.consumer.group.KafkaConsumer'>\n",
      "<class 'kafka.consumer.group.KafkaConsumer'>\n",
      "<class 'kafka.consumer.group.KafkaConsumer'>\n"
     ]
    },
    {
     "name": "stderr",
     "output_type": "stream",
     "text": [
      "Exception in thread Thread-124 (consume):\n",
      "Traceback (most recent call last):\n",
      "  File \"/usr/lib/python3.10/threading.py\", line 1016, in _bootstrap_inner\n",
      "    self.run()\n",
      "  File \"/usr/lib/python3.10/threading.py\", line 953, in run\n",
      "    self._target(*self._args, **self._kwargs)\n",
      "  File \"/tmp/ipykernel_14/1295344906.py\", line 18, in consume\n",
      "  File \"/tmp/ipykernel_14/1187766284.py\", line 5, in process_messages\n",
      "UnicodeDecodeError: 'utf-8' codec can't decode byte 0xb3 in position 17: invalid start byte\n"
     ]
    },
    {
     "name": "stdout",
     "output_type": "stream",
     "text": [
      "N\n"
     ]
    },
    {
     "name": "stderr",
     "output_type": "stream",
     "text": [
      "Exception in thread Thread-125 (consume):\n",
      "Traceback (most recent call last):\n",
      "  File \"/usr/lib/python3.10/threading.py\", line 1016, in _bootstrap_inner\n",
      "    self.run()\n",
      "  File \"/usr/lib/python3.10/threading.py\", line 953, in run\n",
      "    self._target(*self._args, **self._kwargs)\n",
      "  File \"/tmp/ipykernel_14/1295344906.py\", line 18, in consume\n",
      "  File \"/tmp/ipykernel_14/1187766284.py\", line 5, in process_messages\n",
      "UnicodeDecodeError: 'utf-8' codec can't decode byte 0x9c in position 17: invalid start byte\n"
     ]
    },
    {
     "name": "stdout",
     "output_type": "stream",
     "text": [
      "D\n"
     ]
    },
    {
     "name": "stderr",
     "output_type": "stream",
     "text": [
      "Exception in thread Thread-126 (consume):\n",
      "Traceback (most recent call last):\n",
      "  File \"/usr/lib/python3.10/threading.py\", line 1016, in _bootstrap_inner\n",
      "    self.run()\n",
      "  File \"/usr/lib/python3.10/threading.py\", line 953, in run\n",
      "    self._target(*self._args, **self._kwargs)\n",
      "  File \"/tmp/ipykernel_14/1295344906.py\", line 18, in consume\n",
      "  File \"/tmp/ipykernel_14/1187766284.py\", line 5, in process_messages\n",
      "UnicodeDecodeError: 'utf-8' codec can't decode byte 0xbc in position 17: invalid start byte\n"
     ]
    },
    {
     "name": "stdout",
     "output_type": "stream",
     "text": [
      "A\n"
     ]
    }
   ],
   "source": [
    "def consume(part_nums=[], iterations=10):\n",
    "    consumer = KafkaConsumer(\n",
    "        bootstrap_servers=[\"kafka:9092\"],\n",
    "        auto_offset_reset=\"earliest\",\n",
    "        api_version=(0,11,5))\n",
    "    topic_list=[TopicPartition(\"stations\", part_num) for part_num in part_nums]\n",
    "    print(type(consumer))\n",
    "    consumer.assign(topic_list)\n",
    "    partitions = {part_num: load_partition(part_num) for part_num in part_nums} \n",
    "    for part_num, partition in partitions.items(): \n",
    "        if \"offset\" in partition: \n",
    "            consumer.seek(TopicPartition(\"stations\", part_num), partition[\"offset\"]) \n",
    "    for i in range(iterations):\n",
    "        batch = consumer.poll(1000)\n",
    "        for topic, messages in batch.items():\n",
    "            partition_num = messages[0].partition\n",
    "            partition = partitions[partition_num]\n",
    "            partition = process_messages(messages, partition)\n",
    "            partition[\"offset\"] = consumer.position(TopicPartition(\"stations\", partition_num))\n",
    "            save_partition(partition)\n",
    "\n",
    "    print(\"exiting\")\n",
    "    \n",
    "for i in range(2):\n",
    "    print(\"ROUND\", i)\n",
    "    t1 = threading.Thread(target=consume, args=([0,1], 30))\n",
    "    t2 = threading.Thread(target=consume, args=([2,3], 30))\n",
    "    t3 = threading.Thread(target=consume, args=([4,5], 30))\n",
    "    t1.start()\n",
    "    t2.start()\n",
    "    t3.start()\n",
    "    t1.join()\n",
    "    t2.join()\n",
    "    t3.join()  "
   ]
  },
  {
   "cell_type": "code",
   "execution_count": 42,
   "id": "548489b5-578c-4455-b4bf-cb4c9e583113",
   "metadata": {},
   "outputs": [
    {
     "name": "stdout",
     "output_type": "stream",
     "text": [
      "cat: 'partition*.json': No such file or directory\n"
     ]
    }
   ],
   "source": [
    "!cat partition*.json"
   ]
  },
  {
   "cell_type": "code",
   "execution_count": 21,
   "id": "c79f3973-67e3-4df4-9e16-8b19358d98e6",
   "metadata": {},
   "outputs": [
    {
     "name": "stdout",
     "output_type": "stream",
     "text": [
      "cat: 'partition*.json': No such file or directory\n"
     ]
    }
   ],
   "source": []
  },
  {
   "cell_type": "code",
   "execution_count": 84,
   "id": "56fca913-9f72-4819-872f-bfab344319a8",
   "metadata": {},
   "outputs": [
    {
     "name": "stdout",
     "output_type": "stream",
     "text": [
      "dict_items([])\n",
      "dict_items([])\n",
      "dict_items([])\n",
      "dict_items([])\n",
      "dict_items([])\n",
      "dict_items([])\n",
      "dict_items([])\n",
      "dict_items([])\n",
      "dict_items([])\n",
      "dict_items([])\n",
      "dict_items([])\n",
      "dict_items([])\n",
      "dict_items([])\n",
      "dict_items([])\n",
      "dict_items([])\n",
      "dict_items([])\n",
      "dict_items([])\n",
      "dict_items([])\n",
      "dict_items([])\n",
      "dict_items([])\n",
      "dict_items([])\n",
      "dict_items([])\n",
      "dict_items([])\n",
      "dict_items([])\n",
      "dict_items([])\n"
     ]
    },
    {
     "ename": "KeyboardInterrupt",
     "evalue": "",
     "output_type": "error",
     "traceback": [
      "\u001b[0;31m---------------------------------------------------------------------------\u001b[0m",
      "\u001b[0;31mKeyboardInterrupt\u001b[0m                         Traceback (most recent call last)",
      "Cell \u001b[0;32mIn[84], line 12\u001b[0m\n\u001b[1;32m     10\u001b[0m         consumer\u001b[38;5;241m.\u001b[39mseek(TopicPartition(\u001b[38;5;124m\"\u001b[39m\u001b[38;5;124mstations\u001b[39m\u001b[38;5;124m\"\u001b[39m, part_num), partition[\u001b[38;5;124m\"\u001b[39m\u001b[38;5;124moffset\u001b[39m\u001b[38;5;124m\"\u001b[39m]) \n\u001b[1;32m     11\u001b[0m \u001b[38;5;28;01mfor\u001b[39;00m i \u001b[38;5;129;01min\u001b[39;00m \u001b[38;5;28mrange\u001b[39m(\u001b[38;5;241m30\u001b[39m):\n\u001b[0;32m---> 12\u001b[0m     batch \u001b[38;5;241m=\u001b[39m \u001b[43mconsumer\u001b[49m\u001b[38;5;241;43m.\u001b[39;49m\u001b[43mpoll\u001b[49m\u001b[43m(\u001b[49m\u001b[38;5;241;43m1000\u001b[39;49m\u001b[43m)\u001b[49m\n\u001b[1;32m     13\u001b[0m     \u001b[38;5;28mprint\u001b[39m(batch\u001b[38;5;241m.\u001b[39mitems())\n\u001b[1;32m     14\u001b[0m     \u001b[38;5;28;01mfor\u001b[39;00m topic, messages \u001b[38;5;129;01min\u001b[39;00m batch\u001b[38;5;241m.\u001b[39mitems():\n",
      "File \u001b[0;32m/usr/local/lib/python3.10/dist-packages/kafka/consumer/group.py:655\u001b[0m, in \u001b[0;36mKafkaConsumer.poll\u001b[0;34m(self, timeout_ms, max_records, update_offsets)\u001b[0m\n\u001b[1;32m    653\u001b[0m remaining \u001b[38;5;241m=\u001b[39m timeout_ms\n\u001b[1;32m    654\u001b[0m \u001b[38;5;28;01mwhile\u001b[39;00m \u001b[38;5;28;01mTrue\u001b[39;00m:\n\u001b[0;32m--> 655\u001b[0m     records \u001b[38;5;241m=\u001b[39m \u001b[38;5;28;43mself\u001b[39;49m\u001b[38;5;241;43m.\u001b[39;49m\u001b[43m_poll_once\u001b[49m\u001b[43m(\u001b[49m\u001b[43mremaining\u001b[49m\u001b[43m,\u001b[49m\u001b[43m \u001b[49m\u001b[43mmax_records\u001b[49m\u001b[43m,\u001b[49m\u001b[43m \u001b[49m\u001b[43mupdate_offsets\u001b[49m\u001b[38;5;241;43m=\u001b[39;49m\u001b[43mupdate_offsets\u001b[49m\u001b[43m)\u001b[49m\n\u001b[1;32m    656\u001b[0m     \u001b[38;5;28;01mif\u001b[39;00m records:\n\u001b[1;32m    657\u001b[0m         \u001b[38;5;28;01mreturn\u001b[39;00m records\n",
      "File \u001b[0;32m/usr/local/lib/python3.10/dist-packages/kafka/consumer/group.py:702\u001b[0m, in \u001b[0;36mKafkaConsumer._poll_once\u001b[0;34m(self, timeout_ms, max_records, update_offsets)\u001b[0m\n\u001b[1;32m    699\u001b[0m     \u001b[38;5;28mself\u001b[39m\u001b[38;5;241m.\u001b[39m_client\u001b[38;5;241m.\u001b[39mpoll(timeout_ms\u001b[38;5;241m=\u001b[39m\u001b[38;5;241m0\u001b[39m)\n\u001b[1;32m    701\u001b[0m timeout_ms \u001b[38;5;241m=\u001b[39m \u001b[38;5;28mmin\u001b[39m(timeout_ms, \u001b[38;5;28mself\u001b[39m\u001b[38;5;241m.\u001b[39m_coordinator\u001b[38;5;241m.\u001b[39mtime_to_next_poll() \u001b[38;5;241m*\u001b[39m \u001b[38;5;241m1000\u001b[39m)\n\u001b[0;32m--> 702\u001b[0m \u001b[38;5;28;43mself\u001b[39;49m\u001b[38;5;241;43m.\u001b[39;49m\u001b[43m_client\u001b[49m\u001b[38;5;241;43m.\u001b[39;49m\u001b[43mpoll\u001b[49m\u001b[43m(\u001b[49m\u001b[43mtimeout_ms\u001b[49m\u001b[38;5;241;43m=\u001b[39;49m\u001b[43mtimeout_ms\u001b[49m\u001b[43m)\u001b[49m\n\u001b[1;32m    703\u001b[0m \u001b[38;5;66;03m# after the long poll, we should check whether the group needs to rebalance\u001b[39;00m\n\u001b[1;32m    704\u001b[0m \u001b[38;5;66;03m# prior to returning data so that the group can stabilize faster\u001b[39;00m\n\u001b[1;32m    705\u001b[0m \u001b[38;5;28;01mif\u001b[39;00m \u001b[38;5;28mself\u001b[39m\u001b[38;5;241m.\u001b[39m_coordinator\u001b[38;5;241m.\u001b[39mneed_rejoin():\n",
      "File \u001b[0;32m/usr/local/lib/python3.10/dist-packages/kafka/client_async.py:602\u001b[0m, in \u001b[0;36mKafkaClient.poll\u001b[0;34m(self, timeout_ms, future)\u001b[0m\n\u001b[1;32m    599\u001b[0m             timeout \u001b[38;5;241m=\u001b[39m \u001b[38;5;28mmin\u001b[39m(timeout, \u001b[38;5;28mself\u001b[39m\u001b[38;5;241m.\u001b[39mconfig[\u001b[38;5;124m'\u001b[39m\u001b[38;5;124mretry_backoff_ms\u001b[39m\u001b[38;5;124m'\u001b[39m])\n\u001b[1;32m    600\u001b[0m         timeout \u001b[38;5;241m=\u001b[39m \u001b[38;5;28mmax\u001b[39m(\u001b[38;5;241m0\u001b[39m, timeout)  \u001b[38;5;66;03m# avoid negative timeouts\u001b[39;00m\n\u001b[0;32m--> 602\u001b[0m     \u001b[38;5;28;43mself\u001b[39;49m\u001b[38;5;241;43m.\u001b[39;49m\u001b[43m_poll\u001b[49m\u001b[43m(\u001b[49m\u001b[43mtimeout\u001b[49m\u001b[43m \u001b[49m\u001b[38;5;241;43m/\u001b[39;49m\u001b[43m \u001b[49m\u001b[38;5;241;43m1000\u001b[39;49m\u001b[43m)\u001b[49m\n\u001b[1;32m    604\u001b[0m \u001b[38;5;66;03m# called without the lock to avoid deadlock potential\u001b[39;00m\n\u001b[1;32m    605\u001b[0m \u001b[38;5;66;03m# if handlers need to acquire locks\u001b[39;00m\n\u001b[1;32m    606\u001b[0m responses\u001b[38;5;241m.\u001b[39mextend(\u001b[38;5;28mself\u001b[39m\u001b[38;5;241m.\u001b[39m_fire_pending_completed_requests())\n",
      "File \u001b[0;32m/usr/local/lib/python3.10/dist-packages/kafka/client_async.py:634\u001b[0m, in \u001b[0;36mKafkaClient._poll\u001b[0;34m(self, timeout)\u001b[0m\n\u001b[1;32m    631\u001b[0m \u001b[38;5;28mself\u001b[39m\u001b[38;5;241m.\u001b[39m_register_send_sockets()\n\u001b[1;32m    633\u001b[0m start_select \u001b[38;5;241m=\u001b[39m time\u001b[38;5;241m.\u001b[39mtime()\n\u001b[0;32m--> 634\u001b[0m ready \u001b[38;5;241m=\u001b[39m \u001b[38;5;28;43mself\u001b[39;49m\u001b[38;5;241;43m.\u001b[39;49m\u001b[43m_selector\u001b[49m\u001b[38;5;241;43m.\u001b[39;49m\u001b[43mselect\u001b[49m\u001b[43m(\u001b[49m\u001b[43mtimeout\u001b[49m\u001b[43m)\u001b[49m\n\u001b[1;32m    635\u001b[0m end_select \u001b[38;5;241m=\u001b[39m time\u001b[38;5;241m.\u001b[39mtime()\n\u001b[1;32m    636\u001b[0m \u001b[38;5;28;01mif\u001b[39;00m \u001b[38;5;28mself\u001b[39m\u001b[38;5;241m.\u001b[39m_sensors:\n",
      "File \u001b[0;32m/usr/lib/python3.10/selectors.py:469\u001b[0m, in \u001b[0;36mEpollSelector.select\u001b[0;34m(self, timeout)\u001b[0m\n\u001b[1;32m    467\u001b[0m ready \u001b[38;5;241m=\u001b[39m []\n\u001b[1;32m    468\u001b[0m \u001b[38;5;28;01mtry\u001b[39;00m:\n\u001b[0;32m--> 469\u001b[0m     fd_event_list \u001b[38;5;241m=\u001b[39m \u001b[38;5;28;43mself\u001b[39;49m\u001b[38;5;241;43m.\u001b[39;49m\u001b[43m_selector\u001b[49m\u001b[38;5;241;43m.\u001b[39;49m\u001b[43mpoll\u001b[49m\u001b[43m(\u001b[49m\u001b[43mtimeout\u001b[49m\u001b[43m,\u001b[49m\u001b[43m \u001b[49m\u001b[43mmax_ev\u001b[49m\u001b[43m)\u001b[49m\n\u001b[1;32m    470\u001b[0m \u001b[38;5;28;01mexcept\u001b[39;00m \u001b[38;5;167;01mInterruptedError\u001b[39;00m:\n\u001b[1;32m    471\u001b[0m     \u001b[38;5;28;01mreturn\u001b[39;00m ready\n",
      "\u001b[0;31mKeyboardInterrupt\u001b[0m: "
     ]
    }
   ],
   "source": [
    "consumer = KafkaConsumer(\n",
    "        bootstrap_servers=[\"localhost:9092\"],\n",
    "        auto_offset_reset=\"earliest\",\n",
    "        api_version=(0,11,5))\n",
    "topic_list=[TopicPartition(\"stations\", part_num) for part_num in part_nums]\n",
    "consumer.assign(topic_list)\n",
    "partitions = {part_num: load_partition(part_num) for part_num in part_nums} \n",
    "for part_num, partition in partitions.items(): \n",
    "    if \"offset\" in partition: \n",
    "        consumer.seek(TopicPartition(\"stations\", part_num), partition[\"offset\"]) \n",
    "for i in range(30):\n",
    "    batch = consumer.poll(1000)\n",
    "    print(batch.items())\n",
    "    for topic, messages in batch.items():\n",
    "        partition_num = messages[0].partition\n",
    "        partition = partitions[partition_num]\n",
    "        print(str(messages[1], \"utf-8\"))\n",
    "        partition = process_messages(messages, partition)\n",
    "        partition[\"offset\"] = consumer.position(TopicPartition(\"stations\", partition_num))\n",
    "        save_partition(partition)"
   ]
  },
  {
   "cell_type": "code",
   "execution_count": 83,
   "id": "d24c8248-dad5-420a-9834-9d6c9cc6f35e",
   "metadata": {},
   "outputs": [
    {
     "data": {
      "text/plain": [
       "bytes"
      ]
     },
     "execution_count": 83,
     "metadata": {},
     "output_type": "execute_result"
    }
   ],
   "source": [
    "b'\\n\\n2000-01-01\\x12\\x01E\\x19\"\\xdb\\xe8\\x8a\\x94\\xf4=@'"
   ]
  },
  {
   "cell_type": "code",
   "execution_count": null,
   "id": "d75b261b-f481-4158-9421-fe478c9f9d15",
   "metadata": {},
   "outputs": [],
   "source": []
  }
 ],
 "metadata": {
  "kernelspec": {
   "display_name": "Python 3 (ipykernel)",
   "language": "python",
   "name": "python3"
  },
  "language_info": {
   "codemirror_mode": {
    "name": "ipython",
    "version": 3
   },
   "file_extension": ".py",
   "mimetype": "text/x-python",
   "name": "python",
   "nbconvert_exporter": "python",
   "pygments_lexer": "ipython3",
   "version": "3.10.6"
  }
 },
 "nbformat": 4,
 "nbformat_minor": 5
}
