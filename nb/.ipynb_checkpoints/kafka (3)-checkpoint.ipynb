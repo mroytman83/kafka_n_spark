{
 "cells": [
  {
   "cell_type": "code",
   "execution_count": 1,
   "id": "48a6cf9a-151f-4400-8d7e-3a7c71e68460",
   "metadata": {},
   "outputs": [],
   "source": [
    "import datetime, time, random, string\n",
    "\n",
    "def one_station(name):\n",
    "    # temp pattern\n",
    "    month_avg = [27,31,44,58,70,79,83,81,74,61,46,32]\n",
    "    shift = (random.random()-0.5) * 30\n",
    "    month_avg = [m + shift + (random.random()-0.5) * 5 for m in month_avg]\n",
    "    \n",
    "    # rain pattern\n",
    "    start_rain = [0.1,0.1,0.3,0.5,0.4,0.2,0.2,0.1,0.2,0.2,0.2,0.1]\n",
    "    shift = (random.random()-0.5) * 0.1\n",
    "    start_rain = [r + shift + (random.random() - 0.5) * 0.2 for r in start_rain]\n",
    "    stop_rain = 0.2 + random.random() * 0.2\n",
    "\n",
    "    # day's state\n",
    "    today = datetime.date(2000, 1, 1)\n",
    "    temp = month_avg[0]\n",
    "    raining = False\n",
    "    \n",
    "    # gen weather\n",
    "    while True:\n",
    "        # choose temp+rain\n",
    "        month = today.month - 1\n",
    "        temp = temp * 0.8 + month_avg[month] * 0.2 + (random.random()-0.5) * 20\n",
    "        if temp < 32:\n",
    "            raining=False\n",
    "        elif raining and random.random() < stop_rain:\n",
    "            raining = False\n",
    "        elif not raining and random.random() < start_rain[month]:\n",
    "            raining = True\n",
    "\n",
    "        yield (today.strftime(\"%Y-%m-%d\"), name, temp, raining)\n",
    "\n",
    "        # next day\n",
    "        today += datetime.timedelta(days=1)\n",
    "        \n",
    "def all_stations(count=10, sleep_sec=1):\n",
    "    assert count <= 26\n",
    "    stations = []\n",
    "    for name in string.ascii_uppercase[:count]:\n",
    "        stations.append(one_station(name))\n",
    "    while True:\n",
    "        for station in stations:\n",
    "            yield next(station)\n",
    "        time.sleep(sleep_sec)"
   ]
  },
  {
   "cell_type": "code",
   "execution_count": 2,
   "id": "79830a57-4b12-40f4-904e-06dc2eef42dc",
   "metadata": {},
   "outputs": [
    {
     "name": "stdout",
     "output_type": "stream",
     "text": [
      "('2000-01-01', 'A', 28.867795071149505, False)\n"
     ]
    }
   ],
   "source": [
    "# loops forever because the weather never ends...\n",
    "for row in all_stations(3):\n",
    "    print(row)\n",
    "    break# date, station, temp, raining"
   ]
  },
  {
   "cell_type": "code",
   "execution_count": 3,
   "id": "cc41db6f-ab9d-4973-93ae-5295c23dc5a7",
   "metadata": {
    "tags": []
   },
   "outputs": [
    {
     "name": "stdout",
     "output_type": "stream",
     "text": [
      "cannot delete (may not exist yet)\n"
     ]
    },
    {
     "data": {
      "text/plain": [
       "['stations-json', 'stations']"
      ]
     },
     "execution_count": 3,
     "metadata": {},
     "output_type": "execute_result"
    }
   ],
   "source": [
    "from kafka import KafkaAdminClient, KafkaProducer, KafkaConsumer, TopicPartition\n",
    "from kafka.admin import NewTopic\n",
    "from kafka.errors import TopicAlreadyExistsError, UnknownTopicOrPartitionError\n",
    "\n",
    "admin = KafkaAdminClient(bootstrap_servers=[\"kafka:9092\"])\n",
    "try:\n",
    "    admin.delete_topics([\"stations\", \"stations-json\"])\n",
    "    print(\"deleted\")\n",
    "except UnknownTopicOrPartitionError:\n",
    "    print(\"cannot delete (may not exist yet)\")\n",
    "\n",
    "time.sleep(1)\n",
    "\n",
    "admin.create_topics([NewTopic(\"stations\", 6, 1)])\n",
    "admin.create_topics([NewTopic(\"stations-json\", 6, 1)])\n",
    "admin.list_topics()\n",
    "\n",
    "admin.list_topics()"
   ]
  },
  {
   "cell_type": "markdown",
   "id": "917a066b-7fbb-4b5f-ac73-7c4a4c3e68ac",
   "metadata": {},
   "source": [
    "Part 1:"
   ]
  },
  {
   "cell_type": "code",
   "execution_count": 4,
   "id": "8c62b231-427b-4c02-8aa3-27364306d61b",
   "metadata": {},
   "outputs": [
    {
     "data": {
      "text/plain": [
       "<kafka.producer.kafka.KafkaProducer at 0x7f23f410e050>"
      ]
     },
     "execution_count": 4,
     "metadata": {},
     "output_type": "execute_result"
    }
   ],
   "source": [
    "producer=KafkaProducer(bootstrap_servers=[\"kafka:9092\"])\n",
    "producer"
   ]
  },
  {
   "cell_type": "code",
   "execution_count": 5,
   "id": "5ba1aafb-f5ff-4ea9-a99c-62cb034d4671",
   "metadata": {},
   "outputs": [],
   "source": [
    "import time, threading\n",
    "import report_pb2\n",
    "import json"
   ]
  },
  {
   "cell_type": "code",
   "execution_count": 6,
   "id": "0ef4473e-70bc-4029-9a1b-a7498dad897a",
   "metadata": {},
   "outputs": [],
   "source": [
    "def produce():\n",
    "    producer = KafkaProducer(\n",
    "        bootstrap_servers=[\"kafka:9092\"],\n",
    "        retries=10,\n",
    "        acks=\"all\"\n",
    "    )\n",
    "\n",
    "    for date, station, degrees, raining in all_stations(15):\n",
    "        # send to \"stations\" stream using protobuf\n",
    "        report = report_pb2.Report(date = date, station = station, degrees = degrees, raining = raining)\n",
    "        key = bytes(station, \"utf-8\")\n",
    "        value = report.SerializeToString()\n",
    "        producer.send(\"stations\", key=key, value=value)\n",
    "\n",
    "        # send to \"stations-json\" using JSON\n",
    "        data = {\n",
    "            \"date\": date,\n",
    "            \"station\": station,\n",
    "            \"degrees\": degrees,\n",
    "            \"raining\": int(raining)\n",
    "        }\n",
    "        key = bytes(station, \"utf-8\")\n",
    "        value = bytes(json.dumps(data), \"utf-8\")\n",
    "        producer.send(\"stations-json\", key=key, value=value)"
   ]
  },
  {
   "cell_type": "code",
   "execution_count": 7,
   "id": "0e738a7b-bf40-428e-805b-a9c365adf590",
   "metadata": {},
   "outputs": [],
   "source": [
    "# Start thread to run produce\n",
    "producer_thread = threading.Thread(target=produce)\n",
    "producer_thread.start()"
   ]
  },
  {
   "cell_type": "markdown",
   "id": "8d228cb8-2f10-428c-90d9-7686ee39e58d",
   "metadata": {},
   "source": [
    "Part 2:"
   ]
  },
  {
   "cell_type": "code",
   "execution_count": 8,
   "id": "85e0aeeb-7a28-4d03-9ae5-be1176b04981",
   "metadata": {},
   "outputs": [],
   "source": [
    "import os, json\n",
    "\n",
    "for partition in range(6):\n",
    "    path = f\"partition-{partition}.json\"\n",
    "    if os.path.exists(path):\n",
    "        os.remove(path)"
   ]
  },
  {
   "cell_type": "code",
   "execution_count": 9,
   "id": "df412bc3-9f0b-4281-8c0e-d4a3e90db22c",
   "metadata": {},
   "outputs": [],
   "source": [
    "def load_partition(partition_num):\n",
    "    path = f\"partition-{partition_num}.json\"\n",
    "    if os.path.exists(path):\n",
    "        with open(path, \"r\") as file:\n",
    "            return json.load(file)\n",
    "    else:\n",
    "        return {\"partition\": partition_num, \"offset\": 0}\n",
    "\n",
    "def save_partition(partition):\n",
    "    path = f\"partition-{partition['partition']}.json\"\n",
    "    with open(path, \"w\") as file:\n",
    "        json.dump(partition, file)"
   ]
  },
  {
   "cell_type": "code",
   "execution_count": 10,
   "id": "2a3c13a1-8ad4-4e93-a874-a13f9647b3aa",
   "metadata": {},
   "outputs": [],
   "source": [
    "def process_messages(messages, partition):\n",
    "    for msg in messages:\n",
    "        report = report_pb2.Report()\n",
    "        report.ParseFromString(msg.value)\n",
    "\n",
    "        # access the fields of the decoded message\n",
    "        date = report.date\n",
    "        station = report.station\n",
    "        temperature = report.degrees\n",
    "        raining = report.raining\n",
    "#         station = msg.key.decode(\"utf-8\")\n",
    "#         #THE ISSUE IS WHEN WE TRY DECODE THE LINE BELOW\n",
    "#         print(type(msg.value.decode(\"utf-8\").split(\",\")[0], \"utf-8\"))\n",
    "#         date, temperature = msg.value.decode(\"utf-8\").split(\",\")\n",
    "        \n",
    "#         temperature = float(temperature)\n",
    "\n",
    "        if station not in partition:\n",
    "            partition[station] = {\n",
    "                \"sum\": temperature,\n",
    "                \"count\": 1,\n",
    "                \"avg\": temperature,\n",
    "                \"start\": date,\n",
    "                \"end\": date,\n",
    "            }\n",
    "        else:\n",
    "            if date > partition[station][\"end\"]:\n",
    "                partition[station][\"sum\"] += temperature\n",
    "                partition[station][\"count\"] += 1\n",
    "                partition[station][\"avg\"] = partition[station][\"sum\"] / partition[station][\"count\"]\n",
    "                partition[station][\"end\"] = date\n",
    "\n",
    "    return partition"
   ]
  },
  {
   "cell_type": "code",
   "execution_count": null,
   "id": "c5e8063e-f44d-4e70-b13f-246e717e90e7",
   "metadata": {},
   "outputs": [
    {
     "name": "stdout",
     "output_type": "stream",
     "text": [
      "ROUND 0\n"
     ]
    }
   ],
   "source": [
    "def consume(part_nums=[], iterations=10):\n",
    "    consumer = KafkaConsumer(\n",
    "        bootstrap_servers=[\"kafka:9092\"],\n",
    "        auto_offset_reset=\"earliest\",\n",
    "        api_version=(0,11,5))\n",
    "    topic_list=[TopicPartition(\"stations\", part_num) for part_num in part_nums]\n",
    "    consumer.assign(topic_list)\n",
    "    partitions = {part_num: load_partition(part_num) for part_num in part_nums} \n",
    "    for part_num, partition in partitions.items(): \n",
    "        if \"offset\" in partition: \n",
    "            consumer.seek(TopicPartition(\"stations\", part_num), partition[\"offset\"]) \n",
    "    for i in range(iterations):\n",
    "        batch = consumer.poll(1000)\n",
    "        for topic, messages in batch.items():\n",
    "            partition_num = messages[0].partition\n",
    "            partition = partitions[partition_num]\n",
    "            partition = process_messages(messages, partition)\n",
    "            partition[\"offset\"] = consumer.position(TopicPartition(\"stations\", partition_num))\n",
    "            save_partition(partition)\n",
    "\n",
    "    print(\"exiting\")\n",
    "    \n",
    "for i in range(2):\n",
    "    print(\"ROUND\", i)\n",
    "    t1 = threading.Thread(target=consume, args=([0,1], 30))\n",
    "    t2 = threading.Thread(target=consume, args=([2,3], 30))\n",
    "    t3 = threading.Thread(target=consume, args=([4,5], 30))\n",
    "    t1.start()\n",
    "    t2.start()\n",
    "    t3.start()\n",
    "    t1.join()\n",
    "    t2.join()\n",
    "    t3.join()  "
   ]
  },
  {
   "cell_type": "code",
   "execution_count": 50,
   "id": "d75b261b-f481-4158-9421-fe478c9f9d15",
   "metadata": {},
   "outputs": [
    {
     "name": "stdout",
     "output_type": "stream",
     "text": [
      "{\"partition\": 0, \"offset\": 672, \"N\": {\"sum\": 47305.43510360138, \"count\": 672, \"avg\": 70.39499271369253, \"start\": \"2000-01-01\", \"end\": \"2001-11-02\"}}{\"partition\": 1, \"offset\": 1344, \"E\": {\"sum\": 31107.637760978832, \"count\": 672, \"avg\": 46.29112762050421, \"start\": \"2000-01-01\", \"end\": \"2001-11-02\"}, \"O\": {\"sum\": 46860.62698528631, \"count\": 672, \"avg\": 69.73307587096177, \"start\": \"2000-01-01\", \"end\": \"2001-11-02\"}}{\"partition\": 2, \"offset\": 2019, \"F\": {\"sum\": 48504.233011910204, \"count\": 673, \"avg\": 72.07166866554265, \"start\": \"2000-01-01\", \"end\": \"2001-11-03\"}, \"I\": {\"sum\": 44630.72917966637, \"count\": 673, \"avg\": 66.31609090589356, \"start\": \"2000-01-01\", \"end\": \"2001-11-03\"}, \"J\": {\"sum\": 37231.22615631386, \"count\": 673, \"avg\": 55.32128700789578, \"start\": \"2000-01-01\", \"end\": \"2001-11-03\"}}{\"partition\": 3, \"offset\": 2019, \"D\": {\"sum\": 38708.717704896975, \"count\": 673, \"avg\": 57.516668209356574, \"start\": \"2000-01-01\", \"end\": \"2001-11-03\"}, \"G\": {\"sum\": 29893.24514755757, \"count\": 673, \"avg\": 44.417897693250474, \"start\": \"2000-01-01\", \"end\": \"2001-11-03\"}, \"M\": {\"sum\": 30414.147603882917, \"count\": 673, \"avg\": 45.19189837129705, \"start\": \"2000-01-01\", \"end\": \"2001-11-03\"}}{\"partition\": 4, \"offset\": 3365, \"A\": {\"sum\": 31111.379812723353, \"count\": 673, \"avg\": 46.22790462514614, \"start\": \"2000-01-01\", \"end\": \"2001-11-03\"}, \"B\": {\"sum\": 48674.426692457026, \"count\": 673, \"avg\": 72.32455674956468, \"start\": \"2000-01-01\", \"end\": \"2001-11-03\"}, \"C\": {\"sum\": 29977.412098978115, \"count\": 673, \"avg\": 44.54296002819928, \"start\": \"2000-01-01\", \"end\": \"2001-11-03\"}, \"K\": {\"sum\": 30800.931711967027, \"count\": 673, \"avg\": 45.76661472803421, \"start\": \"2000-01-01\", \"end\": \"2001-11-03\"}, \"L\": {\"sum\": 31857.4038007484, \"count\": 673, \"avg\": 47.336409807947106, \"start\": \"2000-01-01\", \"end\": \"2001-11-03\"}}{\"partition\": 5, \"offset\": 673, \"H\": {\"sum\": 47207.59131882459, \"count\": 673, \"avg\": 70.145009389041, \"start\": \"2000-01-01\", \"end\": \"2001-11-03\"}}"
     ]
    }
   ],
   "source": [
    "!cat partition*.json"
   ]
  },
  {
   "cell_type": "code",
   "execution_count": null,
   "id": "28827269-ba60-414d-8fd2-bf2567d6f699",
   "metadata": {},
   "outputs": [],
   "source": []
  }
 ],
 "metadata": {
  "kernelspec": {
   "display_name": "Python 3 (ipykernel)",
   "language": "python",
   "name": "python3"
  },
  "language_info": {
   "codemirror_mode": {
    "name": "ipython",
    "version": 3
   },
   "file_extension": ".py",
   "mimetype": "text/x-python",
   "name": "python",
   "nbconvert_exporter": "python",
   "pygments_lexer": "ipython3",
   "version": "3.10.6"
  }
 },
 "nbformat": 4,
 "nbformat_minor": 5
}
